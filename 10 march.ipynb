{
 "cells": [
  {
   "cell_type": "code",
   "execution_count": 1,
   "id": "be69b078-255c-47c1-b11e-c24e5bc1ad6a",
   "metadata": {},
   "outputs": [
    {
     "data": {
      "text/plain": [
       "'Estimate:-\\n   It is a specified observed nominal value used to estimate on unknown population parameter.\\n   \\n   1.Point Estimate :\\n       single numerical value used to estimate an unknown population parameter.\\n       example:\\n        sample mean is a point estimate of a population mean.\\n   2.Interval estimate:\\n       Range of values used to estimate the unknown population parameter.\\n       '"
      ]
     },
     "execution_count": 1,
     "metadata": {},
     "output_type": "execute_result"
    }
   ],
   "source": [
    "# Q1\n",
    "'''Estimate:-\n",
    "   It is a specified observed nominal value used to estimate on unknown population parameter.\n",
    "   \n",
    "   1.Point Estimate :\n",
    "       single numerical value used to estimate an unknown population parameter.\n",
    "       example:\n",
    "        sample mean is a point estimate of a population mean.\n",
    "   2.Interval estimate:\n",
    "       Range of values used to estimate the unknown population parameter.\n",
    "       '''"
   ]
  },
  {
   "cell_type": "code",
   "execution_count": 1,
   "id": "c80b9bed-85b0-4e64-bb45-c19d9bfe3f05",
   "metadata": {},
   "outputs": [
    {
     "name": "stdout",
     "output_type": "stream",
     "text": [
      "Population standard deviation of the dataset is 1.3437096247164249\n",
      "Sample standard deviation of the dataset is 0.8975274678557505\n"
     ]
    }
   ],
   "source": [
    "# Q2\n",
    "import math\n",
    "# consider \n",
    "dataset = [2, 3, 4, 1, 2, 5]\n",
    "# for mean\n",
    "sm=0\n",
    "for i in range(len(dataset)):\n",
    "   sm+=dataset[i]\n",
    "   mean = sm/len(dataset)\n",
    "# for std\n",
    "deviation_sum = 0\n",
    "for i in range(len(dataset)):\n",
    "   deviation_sum+=(dataset[i]- mean)**2\n",
    "   psd = math.sqrt((deviation_sum)/len(dataset))\n",
    "ssd = math.sqrt((deviation_sum)/len(dataset) - 1)\n",
    "print(\"Population standard deviation of the dataset is\", psd)\n",
    "print(\"Sample standard deviation of the dataset is\", ssd)"
   ]
  },
  {
   "cell_type": "code",
   "execution_count": 2,
   "id": "7cbbcbaf-7e9c-4224-9f58-645a8d1abfe7",
   "metadata": {},
   "outputs": [
    {
     "data": {
      "text/plain": [
       "'Hypothesis testing:-\\nHypothesis testing is the process used to evaluate the strength of evidence from the sample and\\nprovides a framework for making determinations related to the population.\\n\\nused:-\\nIt provides a method for understanding how reliably one can extrapolate observed findings in a sample \\nunder study to the larger population from which the sample was drawn. \\n\\nimportance:-\\nHypotheses are used to support scientific research and create breakthroughs in knowledge.\\nThese brief statements are what form the basis of entire research experiments.\\nThus, a flaw in the formulation of a hypothesis may cause a flaw in the design of an entire experiment.\\n'"
      ]
     },
     "execution_count": 2,
     "metadata": {},
     "output_type": "execute_result"
    }
   ],
   "source": [
    "# Q3\n",
    "'''Hypothesis testing:-\n",
    "Hypothesis testing is the process used to evaluate the strength of evidence from the sample and\n",
    "provides a framework for making determinations related to the population.\n",
    "\n",
    "used:-\n",
    "It provides a method for understanding how reliably one can extrapolate observed findings in a sample \n",
    "under study to the larger population from which the sample was drawn. \n",
    "\n",
    "importance:-\n",
    "Hypotheses are used to support scientific research and create breakthroughs in knowledge.\n",
    "These brief statements are what form the basis of entire research experiments.\n",
    "Thus, a flaw in the formulation of a hypothesis may cause a flaw in the design of an entire experiment.\n",
    "'''"
   ]
  },
  {
   "cell_type": "code",
   "execution_count": 4,
   "id": "9630503a-77cf-4ccd-b613-f06e1bbb8be6",
   "metadata": {},
   "outputs": [
    {
     "data": {
      "text/plain": [
       "'Colleges at district a states its average passed percentages of students are 85%. a new college opened in the district and\\nit was found that a sample of student 100 have a pass percentage of 90% with a standard deviation of 4%.\\ndoes this college have a different passed percentage.\\nNull hypothesis (H0)= u = 85%\\nalternate hypthesis (H1) = u!=85%\\n'"
      ]
     },
     "execution_count": 4,
     "metadata": {},
     "output_type": "execute_result"
    }
   ],
   "source": [
    "# Q4\n",
    "'''Colleges at district a states its average passed percentages of students are 85%. a new college opened in the district and\n",
    "it was found that a sample of student 100 have a pass percentage of 90% with a standard deviation of 4%.\n",
    "does this college have a different passed percentage.\n",
    "Null hypothesis (H0)= u = 85%\n",
    "alternate hypthesis (H1) = u!=85%\n",
    "'''"
   ]
  },
  {
   "cell_type": "code",
   "execution_count": 1,
   "id": "e444d0c1-c32e-4d5c-b943-bc9190b1af06",
   "metadata": {},
   "outputs": [
    {
     "data": {
      "text/plain": [
       "'The average heights of all residents in a city is 169cm with std= 3.9 .A DOCTOR believes the mean to be different. \\nhe measured the height of 36 individuals and found the average height to be 169.5cm.\\n(a) State null and alternate hypothesis.\\n(b) At a 95% confidence level, is there enough evidence to reject the null hypothesis.\\nsol.\\nu = 169cm, std=3.9, n=36, mean=169.5\\nc.i = .95 , alpha= 1-.95=.05\\n1.null hypothesis(H0) = u=169cm\\n2.alternate hypothesis(H1)= u!=169cm\\n3.based C.I we will draw decision boundary\\n1-.025=.9750\\n   z-score= +-1.96\\n   if z is less than -1.96 or greater than 1.96, reject the null hypothesis.\\n   z- test\\n   Zd= (sample mean - u)/(std/sqrt(n))=2.31\\n   now, 2.31 > 1.96\\n   so, reject the null hypothesis.\\n   \\n\\n\\n2. A factory manufactures bulbs with a average warranty of 5 years with standard derivation of 0.5.\\nA worker believes that the bulb will malfunction in less than 5 years. he tests a sample of 40 bulbs \\nand find the average time to be 4.8 years.\\n(a) state null and alternate hypothesis.\\n(b) At a 2% significance level, is there enough evidence to support the idea thatthe warranty should be revised?\\nu = 5 , std = 0.5 , n= 40, sample mean = 4.8\\n\\na)null hypothesis (H0) = u=5\\nalternate hypothesis (H1) = u < 5 {1 tail test}\\n\\nb) decission boundary\\n       2% rejection area and 98% acceptance area\\nc) z-test\\n         Zd = (sample medan - u)/(std/sqrt n) = -2.53\\n         \\n         area under curve with z-score -2.53 \\n         p- value = 0.057\\n    campare p-value = .057  , alpha = .02\\n    0.057 < 0.02\\n   accept thed null hypothesis.\\n   '"
      ]
     },
     "execution_count": 1,
     "metadata": {},
     "output_type": "execute_result"
    }
   ],
   "source": [
    "# Q5\n",
    "'''The average heights of all residents in a city is 169cm with std= 3.9 .A DOCTOR believes the mean to be different. \n",
    "he measured the height of 36 individuals and found the average height to be 169.5cm.\n",
    "(a) State null and alternate hypothesis.\n",
    "(b) At a 95% confidence level, is there enough evidence to reject the null hypothesis.\n",
    "sol.\n",
    "u = 169cm, std=3.9, n=36, mean=169.5\n",
    "c.i = .95 , alpha= 1-.95=.05\n",
    "1.null hypothesis(H0) = u=169cm\n",
    "2.alternate hypothesis(H1)= u!=169cm\n",
    "3.based C.I we will draw decision boundary\n",
    "1-.025=.9750\n",
    "   z-score= +-1.96\n",
    "   if z is less than -1.96 or greater than 1.96, reject the null hypothesis.\n",
    "   z- test\n",
    "   Zd= (sample mean - u)/(std/sqrt(n))=2.31\n",
    "   now, 2.31 > 1.96\n",
    "   so, reject the null hypothesis.\n",
    "   \n",
    "\n",
    "\n",
    "2. A factory manufactures bulbs with a average warranty of 5 years with standard derivation of 0.5.\n",
    "A worker believes that the bulb will malfunction in less than 5 years. he tests a sample of 40 bulbs \n",
    "and find the average time to be 4.8 years.\n",
    "(a) state null and alternate hypothesis.\n",
    "(b) At a 2% significance level, is there enough evidence to support the idea thatthe warranty should be revised?\n",
    "u = 5 , std = 0.5 , n= 40, sample mean = 4.8\n",
    "\n",
    "a)null hypothesis (H0) = u=5\n",
    "alternate hypothesis (H1) = u < 5 {1 tail test}\n",
    "\n",
    "b) decission boundary\n",
    "       2% rejection area and 98% acceptance area\n",
    "c) z-test\n",
    "         Zd = (sample medan - u)/(std/sqrt n) = -2.53\n",
    "         \n",
    "         area under curve with z-score -2.53 \n",
    "         p- value = 0.057\n",
    "    campare p-value = .057  , alpha = .02\n",
    "    0.057 < 0.02\n",
    "   accept thed null hypothesis.\n",
    "   '''"
   ]
  },
  {
   "cell_type": "code",
   "execution_count": 2,
   "id": "73e5b96e-ee9d-48cc-9500-6b8627f0315e",
   "metadata": {},
   "outputs": [
    {
     "data": {
      "text/plain": [
       "\"The null hypothesis (H0) answers No, there's no effect in the population.\\n   The alternative hypothesis (H1) answers Yes, there is an effect in the population.\\n    example:\\n    Think of a statistical test as being like a legal trial.\\n    The population is accused of the crime of having an effect and the sample is the criminal evidence.\\n    In the USA and many other countries, a person accused of a crime is assumed to be innocent until proven guilty.\\n    Similarly, we start by assuming the population is innocent of having an effect.\\n   \\n   In other words, the null hypothesis (there is no effect) is assumed to be true until the sample provides enough evidence \\n   to reject it.\\n   \""
      ]
     },
     "execution_count": 2,
     "metadata": {},
     "output_type": "execute_result"
    }
   ],
   "source": [
    "# Q6\n",
    "'''The null hypothesis (H0) answers No, there's no effect in the population.\n",
    "   The alternative hypothesis (H1) answers Yes, there is an effect in the population.\n",
    "    example:\n",
    "    Think of a statistical test as being like a legal trial.\n",
    "    The population is accused of the crime of having an effect and the sample is the criminal evidence.\n",
    "    In the USA and many other countries, a person accused of a crime is assumed to be innocent until proven guilty.\n",
    "    Similarly, we start by assuming the population is innocent of having an effect.\n",
    "   \n",
    "   In other words, the null hypothesis (there is no effect) is assumed to be true until the sample provides enough evidence \n",
    "   to reject it.\n",
    "   '''"
   ]
  },
  {
   "cell_type": "code",
   "execution_count": 4,
   "id": "0dfa30a7-13b1-4832-a068-929c1be75671",
   "metadata": {},
   "outputs": [
    {
     "data": {
      "text/plain": [
       "' The steps involved in hypothesis testing:\\n    1. Null hypothesis (H0) \\n     (the assumption, to begin)\\n    2. Alternate hypothesis(H1)\\n     (opposite of null hypothesis)\\n    3. Experiments :_ statistical analysis\\n    4. Accept or reject the null hypothesis \\n    '"
      ]
     },
     "execution_count": 4,
     "metadata": {},
     "output_type": "execute_result"
    }
   ],
   "source": [
    "# Q7\n",
    "''' The steps involved in hypothesis testing:\n",
    "    1. Null hypothesis (H0) \n",
    "     (the assumption, to begin)\n",
    "    2. Alternate hypothesis(H1)\n",
    "     (opposite of null hypothesis)\n",
    "    3. Experiments :_ statistical analysis\n",
    "    4. Accept or reject the null hypothesis \n",
    "    '''"
   ]
  },
  {
   "cell_type": "code",
   "execution_count": 5,
   "id": "f2e5dab5-cbae-499f-a8da-484daead90e5",
   "metadata": {},
   "outputs": [
    {
     "data": {
      "text/plain": [
       "'A p-value is a statistical measurement used to validate a hypothesis against observed data.\\nA p-value measures the probability of obtaining the observed results, assuming that the null hypothesis is true.\\n\\nThe lower the p-value, the greater the statistical significance of the observed difference.\\n'"
      ]
     },
     "execution_count": 5,
     "metadata": {},
     "output_type": "execute_result"
    }
   ],
   "source": [
    "# Q8\n",
    "'''A p-value is a statistical measurement used to validate a hypothesis against observed data.\n",
    "A p-value measures the probability of obtaining the observed results, assuming that the null hypothesis is true.\n",
    "\n",
    "The lower the p-value, the greater the statistical significance of the observed difference.\n",
    "'''"
   ]
  },
  {
   "cell_type": "code",
   "execution_count": 24,
   "id": "ad34ea28-e05f-4a10-8d4c-dab86ac4a52d",
   "metadata": {},
   "outputs": [],
   "source": [
    "# Q9\n",
    "import numpy as np\n",
    "from scipy.stats import t\n",
    "from matplotlib import pyplot\n",
    "x = np.linspace(0,10)\n",
    "y = t.pdf(x, df=10)\n",
    "d = pyplot.plot(x,y)\n",
    "pyplot.savefig(\"t-dist-graph-10.png\")\n",
    "pyplot.close()"
   ]
  },
  {
   "attachments": {
    "7286f9de-02c9-4b4b-a191-ce1f90247ca8.png": {
     "image/png": "[encoded data removed]"
    }
   },
   "cell_type": "markdown",
   "id": "5fef54b3-13fc-4482-808d-072e73705f75",
   "metadata": {},
   "source": [
    "![t-dist-graph-10.png](attachment:7286f9de-02c9-4b4b-a191-ce1f90247ca8.png)"
   ]
  },
  {
   "cell_type": "code",
   "execution_count": 45,
   "id": "7cb7e6f8-a777-456b-82ec-59324a8cbfa3",
   "metadata": {},
   "outputs": [
    {
     "data": {
      "text/plain": [
       "Ttest_indResult(statistic=0.0, pvalue=1.0)"
      ]
     },
     "execution_count": 45,
     "metadata": {},
     "output_type": "execute_result"
    }
   ],
   "source": [
    "# Q10\n",
    "import scipy.stats as stats\n",
    " \n",
    "# Creating data groups\n",
    "data_group1 = np.array([14, 15, 15, 17, 13, 10, 17,\n",
    "                        17, 18, 14, 19, 22, 24, 15,\n",
    "                        15, 16, 16, 13, 14, 12])\n",
    " \n",
    "data_group2 = np.array([15, 17, 14, 17, 14, 8, 12,\n",
    "                        19, 19, 14, 17, 22, 24, 16,\n",
    "                        13, 16, 13, 18, 15, 13])\n",
    " \n",
    "# Perform the two sample t-test with equal variances\n",
    "stats.ttest_ind(a=data_group1, b=data_group2, equal_var=True)"
   ]
  },
  {
   "cell_type": "code",
   "execution_count": 46,
   "id": "b9b31925-7fd6-47d6-8d0b-eb0fbec435d5",
   "metadata": {},
   "outputs": [
    {
     "data": {
      "text/plain": [
       "'The t-distribution is used when data are approximately normally distributed, which means the data follow a bell shape\\nbut the population variance is unknown.\\nThe variance in a t-distribution is estimated based on the degrees of freedom of the data set.\\n'"
      ]
     },
     "execution_count": 46,
     "metadata": {},
     "output_type": "execute_result"
    }
   ],
   "source": [
    "# Q11\n",
    "'''The t-distribution is used when data are approximately normally distributed, which means the data follow a bell shape\n",
    "but the population variance is unknown.\n",
    "The variance in a t-distribution is estimated based on the degrees of freedom of the data set.\n",
    "'''"
   ]
  },
  {
   "cell_type": "code",
   "execution_count": 47,
   "id": "eebf3966-6971-455a-97c9-52455bc74c9f",
   "metadata": {},
   "outputs": [
    {
     "data": {
      "text/plain": [
       "'You can calculate a t-value using a common t-test with the formula:\\nt = (X‾ - μ0) / (s / √n), where X‾ is the sample mean, μ0 represents the population mean, s is the standard deviation of \\nthe sample and n stands for the size of the sample.\\n'"
      ]
     },
     "execution_count": 47,
     "metadata": {},
     "output_type": "execute_result"
    }
   ],
   "source": [
    "# Q12\n",
    "'''You can calculate a t-value using a common t-test with the formula:\n",
    "t = (X‾ - μ0) / (s / √n), where X‾ is the sample mean, μ0 represents the population mean, s is the standard deviation of \n",
    "the sample and n stands for the size of the sample.\n",
    "'''"
   ]
  },
  {
   "cell_type": "code",
   "execution_count": 48,
   "id": "44f1230f-5987-44c2-9b42-91abcdd630b9",
   "metadata": {},
   "outputs": [
    {
     "data": {
      "text/plain": [
       "' u= 500, std = 50, C.I = 0.95\\nalpha = 0.05\\nnull hypothesis (H0) = u= 500\\nAlternate hypothesis(H1) = u != 500\\ndecission boundary\\n 1- 0.025 = 0.975\\n     So, z-score is 1.96\\n    than,\\n    if z is less than -1.96 or greater than 1.96, reject the null hypothesis\\n    '"
      ]
     },
     "execution_count": 48,
     "metadata": {},
     "output_type": "execute_result"
    }
   ],
   "source": [
    "# Q13\n",
    "''' u= 500, std = 50, C.I = 0.95\n",
    "alpha = 0.05\n",
    "null hypothesis (H0) = u= 500\n",
    "Alternate hypothesis(H1) = u != 500\n",
    "decission boundary\n",
    " 1- 0.025 = 0.975\n",
    "     So, z-score is 1.96\n",
    "    than,\n",
    "    if z is less than -1.96 or greater than 1.96, reject the null hypothesis\n",
    "    '''"
   ]
  },
  {
   "cell_type": "code",
   "execution_count": 1,
   "id": "1ab3bdd5-99e9-4261-b716-61a4cd64ffde",
   "metadata": {},
   "outputs": [
    {
     "data": {
      "text/plain": [
       "' u= 10, std = 3, C.I = 0.95, sample_mean = 8, n = 100\\nalpha = 0.05\\nnull hypothesis (H0) = u= 10\\nAlternate hypothesis(H1) = u < 10 [one tail boundary]\\ndecission boundary\\n 1- 0.025 = 0.975\\n     So, z-score is 1.96\\n    than,\\n    if z is less than -1.96 reject the null hypothesis\\nnow, \\nZd = (-2/3)10 = -6.667\\n  -6.667 < -1.96\\n  so, reject the null hypothesis\\n    '"
      ]
     },
     "execution_count": 1,
     "metadata": {},
     "output_type": "execute_result"
    }
   ],
   "source": [
    "# Q14\n",
    "''' u= 10, std = 3, C.I = 0.95, sample_mean = 8, n = 100\n",
    "alpha = 0.05\n",
    "null hypothesis (H0) = u= 10\n",
    "Alternate hypothesis(H1) = u < 10 [one tail boundary]\n",
    "decission boundary\n",
    " 1- 0.025 = 0.975\n",
    "     So, z-score is 1.96\n",
    "    than,\n",
    "    if z is less than -1.96 reject the null hypothesis\n",
    "now, \n",
    "Zd = (-2/3)10 = -6.667\n",
    "  0.0083 < 0.05 [true] \n",
    "  so, reject the null hypothesis\n",
    "    '''"
   ]
  },
  {
   "cell_type": "code",
   "execution_count": 2,
   "id": "1b671afb-30d2-4c9e-8989-2cb34985c6de",
   "metadata": {},
   "outputs": [
    {
     "data": {
      "text/plain": [
       "' u= 5, std = 0.5, C.I = 0.99, sample_mean = 4.8, n = 25\\nalpha = 0.01\\nnull hypothesis (H0) = u= 5\\nAlternate hypothesis(H1) = u < 5 [one tail boundary]\\ndegree of freedom = 24\\ndecission boundary\\n 1- 0.005 = 0.995\\n     So, t-score is 3.2\\n    than,\\n    if t is less than -3.2 reject the null hypothesis\\nnow, \\ntd = (-0.2/0.5)5 = -.2\\n   1.376 > 3.2 [false] \\n  so, reject the null hypothesis\\n    '"
      ]
     },
     "execution_count": 2,
     "metadata": {},
     "output_type": "execute_result"
    }
   ],
   "source": [
    "# Q15\n",
    "''' u= 5, std = 0.5, C.I = 0.99, sample_mean = 4.8, n = 25\n",
    "alpha = 0.01\n",
    "null hypothesis (H0) = u= 5\n",
    "Alternate hypothesis(H1) = u < 5 [one tail boundary]\n",
    "degree of freedom = 24\n",
    "decission boundary\n",
    " 1- 0.005 = 0.995\n",
    "     So, t-score is 3.2\n",
    "    than,\n",
    "    if t is less than -3.2 reject the null hypothesis\n",
    "now, \n",
    "td = (-0.2/0.5)5 = -.2\n",
    "   1.376 > 3.2 [false] \n",
    "  so, reject the null hypothesis\n",
    "    '''"
   ]
  },
  {
   "cell_type": "code",
   "execution_count": 3,
   "id": "1cad7f91-d4fc-4f1c-a599-d74bc45d5115",
   "metadata": {},
   "outputs": [
    {
     "data": {
      "text/plain": [
       "'1st team, alpha = 0.01\\n   n1 = 30, mean1 = 80, std1 = 10\\n   null hypothesis = u =80\\n   alternate hypothesis = u != 80\\n   1 - .99 = .01\\n    z-score = 2.3\\n    so, if z is less than -2.3 or greater than 2.3 reject the null hypothesis\\n   \\n   2nd team, alpha = 0.01\\n   n2 = 40, mean2 = 75, std2 = 8\\n   null hypothesis = u = 75\\n   alternate hypothesis = u != 75\\n   1 - .99 = 0.01\\n    zscore = 2.3\\n    so , if z is less than -2.3 or greater than 2.3 reject the null hypothesis\\n   '"
      ]
     },
     "execution_count": 3,
     "metadata": {},
     "output_type": "execute_result"
    }
   ],
   "source": [
    "# Q16\n",
    "'''1st team, alpha = 0.01\n",
    "   n1 = 30, mean1 = 80, std1 = 10\n",
    "   null hypothesis = u =80\n",
    "   alternate hypothesis = u != 80\n",
    "   1 - .99 = .01\n",
    "    z-score = 2.3\n",
    "    so, if z is less than -2.3 or greater than 2.3 reject the null hypothesis\n",
    "   \n",
    "   2nd team, alpha = 0.01\n",
    "   n2 = 40, mean2 = 75, std2 = 8\n",
    "   null hypothesis = u = 75\n",
    "   alternate hypothesis = u != 75\n",
    "   1 - .99 = 0.01\n",
    "    zscore = 2.3\n",
    "    so , if z is less than -2.3 or greater than 2.3 reject the null hypothesis\n",
    "   '''"
   ]
  },
  {
   "cell_type": "code",
   "execution_count": 1,
   "id": "d5ecfae6-0e31-415a-b1dd-e856c1b59e26",
   "metadata": {},
   "outputs": [
    {
     "data": {
      "text/plain": [
       "'n = 50, std = 1.5, mean = 4, alpha = 0.01\\n   null hypothesis = u = 4\\n   alternate hypothesis = u != 4 \\n   1 -  0.99 = 0.01 \\n    zscore = 2.3\\n    so , if z is less than -2.3 or greater than 2.3 reject the null hypothesis\\n   '"
      ]
     },
     "execution_count": 1,
     "metadata": {},
     "output_type": "execute_result"
    }
   ],
   "source": [
    "# Q17\n",
    "'''n = 50, std = 1.5, mean = 4, alpha = 0.01\n",
    "   null hypothesis = u = 4\n",
    "   alternate hypothesis = u != 4 \n",
    "   1 -  0.99 = 0.01 \n",
    "    zscore = 2.3\n",
    "    so , if z is less than -2.3 or greater than 2.3 reject the null hypothesis\n",
    "   '''"
   ]
  },
  {
   "cell_type": "code",
   "execution_count": null,
   "id": "e20df597-00bf-446b-be55-88b6d9171d8b",
   "metadata": {},
   "outputs": [],
   "source": []
  }
 ],
 "metadata": {
  "kernelspec": {
   "display_name": "Python 3 (ipykernel)",
   "language": "python",
   "name": "python3"
  },
  "language_info": {
   "codemirror_mode": {
    "name": "ipython",
    "version": 3
   },
   "file_extension": ".py",
   "mimetype": "text/x-python",
   "name": "python",
   "nbconvert_exporter": "python",
   "pygments_lexer": "ipython3",
   "version": "3.10.8"
  }
 },
 "nbformat": 4,
 "nbformat_minor": 5
}
